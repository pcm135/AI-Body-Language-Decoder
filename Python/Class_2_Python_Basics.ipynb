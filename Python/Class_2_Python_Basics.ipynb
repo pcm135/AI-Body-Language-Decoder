{
  "nbformat": 4,
  "nbformat_minor": 0,
  "metadata": {
    "colab": {
      "name": "Class - 2: Python Basics.ipynb",
      "provenance": [],
      "authorship_tag": "ABX9TyMkKFuZFqtiLAvFgzAuAkPm",
      "include_colab_link": true
    },
    "kernelspec": {
      "name": "python3",
      "display_name": "Python 3"
    },
    "language_info": {
      "name": "python"
    }
  },
  "cells": [
    {
      "cell_type": "markdown",
      "metadata": {
        "id": "view-in-github",
        "colab_type": "text"
      },
      "source": [
        "<a href=\"https://colab.research.google.com/github/purna135/AI-Body-Language-Decoder/blob/main/Python/Class_2_Python_Basics.ipynb\" target=\"_parent\"><img src=\"https://colab.research.google.com/assets/colab-badge.svg\" alt=\"Open In Colab\"/></a>"
      ]
    },
    {
      "cell_type": "markdown",
      "source": [
        "# List"
      ],
      "metadata": {
        "id": "mUq5uW48wGWf"
      }
    },
    {
      "cell_type": "code",
      "source": [
        "l = [10, 20 , 30]"
      ],
      "metadata": {
        "id": "duO0vxJfwEX8"
      },
      "execution_count": 3,
      "outputs": []
    },
    {
      "cell_type": "code",
      "source": [
        "l"
      ],
      "metadata": {
        "colab": {
          "base_uri": "https://localhost:8080/"
        },
        "id": "AG0wj8qlwFC3",
        "outputId": "d05cb318-f2e5-41c3-c34d-395a3574b844"
      },
      "execution_count": 4,
      "outputs": [
        {
          "output_type": "execute_result",
          "data": {
            "text/plain": [
              "[10, 20, 30]"
            ]
          },
          "metadata": {},
          "execution_count": 4
        }
      ]
    },
    {
      "cell_type": "code",
      "source": [
        "l[2]"
      ],
      "metadata": {
        "colab": {
          "base_uri": "https://localhost:8080/"
        },
        "id": "v4847lg-wMOw",
        "outputId": "d28c1c32-d9c5-4798-8791-9159b7b0ad18"
      },
      "execution_count": 5,
      "outputs": [
        {
          "output_type": "execute_result",
          "data": {
            "text/plain": [
              "30"
            ]
          },
          "metadata": {},
          "execution_count": 5
        }
      ]
    },
    {
      "cell_type": "code",
      "source": [
        "l = [10, 20, \"naman\", \"aman\", \"python\", 10.6, 10 + 6j]"
      ],
      "metadata": {
        "id": "r3BMNMcxwiA1"
      },
      "execution_count": 6,
      "outputs": []
    },
    {
      "cell_type": "code",
      "source": [
        "l"
      ],
      "metadata": {
        "colab": {
          "base_uri": "https://localhost:8080/"
        },
        "id": "aDsUASSvwtWj",
        "outputId": "78ad464a-a9ba-4278-dae0-5e38cc54e1ca"
      },
      "execution_count": 7,
      "outputs": [
        {
          "output_type": "execute_result",
          "data": {
            "text/plain": [
              "[10, 20, 'naman', 'aman', 'python', 10.6, (10+6j)]"
            ]
          },
          "metadata": {},
          "execution_count": 7
        }
      ]
    },
    {
      "cell_type": "code",
      "source": [
        "l[3]"
      ],
      "metadata": {
        "colab": {
          "base_uri": "https://localhost:8080/",
          "height": 35
        },
        "id": "Lc9rHUN3wuTe",
        "outputId": "d514f84e-d829-4796-9051-585406dd5f62"
      },
      "execution_count": 8,
      "outputs": [
        {
          "output_type": "execute_result",
          "data": {
            "application/vnd.google.colaboratory.intrinsic+json": {
              "type": "string"
            },
            "text/plain": [
              "'aman'"
            ]
          },
          "metadata": {},
          "execution_count": 8
        }
      ]
    },
    {
      "cell_type": "code",
      "source": [
        "type(l[1])"
      ],
      "metadata": {
        "colab": {
          "base_uri": "https://localhost:8080/"
        },
        "id": "LTZqLdvpyvUx",
        "outputId": "0657540b-78de-4c1d-dfec-4411261497be"
      },
      "execution_count": 17,
      "outputs": [
        {
          "output_type": "execute_result",
          "data": {
            "text/plain": [
              "int"
            ]
          },
          "metadata": {},
          "execution_count": 17
        }
      ]
    },
    {
      "cell_type": "code",
      "source": [
        "l[3] = \"Naman\""
      ],
      "metadata": {
        "id": "uW5upeMzw4fG"
      },
      "execution_count": 9,
      "outputs": []
    },
    {
      "cell_type": "code",
      "source": [
        "l"
      ],
      "metadata": {
        "colab": {
          "base_uri": "https://localhost:8080/"
        },
        "id": "RaMLBVhXySnR",
        "outputId": "8103ad10-bea9-4c7e-c60b-4b783bac35a2"
      },
      "execution_count": 10,
      "outputs": [
        {
          "output_type": "execute_result",
          "data": {
            "text/plain": [
              "[10, 20, 'naman', 'Naman', 'python', 10.6, (10+6j)]"
            ]
          },
          "metadata": {},
          "execution_count": 10
        }
      ]
    },
    {
      "cell_type": "code",
      "source": [
        "type(l)"
      ],
      "metadata": {
        "colab": {
          "base_uri": "https://localhost:8080/"
        },
        "id": "vIYb_pAIyTWF",
        "outputId": "aa8511b1-732e-4017-f409-f74cf4c98ca5"
      },
      "execution_count": 11,
      "outputs": [
        {
          "output_type": "execute_result",
          "data": {
            "text/plain": [
              "list"
            ]
          },
          "metadata": {},
          "execution_count": 11
        }
      ]
    },
    {
      "cell_type": "code",
      "source": [
        "empty_list = []"
      ],
      "metadata": {
        "id": "AVHIrCHryX0m"
      },
      "execution_count": 12,
      "outputs": []
    },
    {
      "cell_type": "code",
      "source": [
        "type(empty_list)"
      ],
      "metadata": {
        "colab": {
          "base_uri": "https://localhost:8080/"
        },
        "id": "e9dkRYXBybkL",
        "outputId": "c144c5ed-f901-46b3-8a1b-68490d9c781a"
      },
      "execution_count": 13,
      "outputs": [
        {
          "output_type": "execute_result",
          "data": {
            "text/plain": [
              "list"
            ]
          },
          "metadata": {},
          "execution_count": 13
        }
      ]
    },
    {
      "cell_type": "code",
      "source": [
        "empty_list2 = list()"
      ],
      "metadata": {
        "id": "GBNxAQBHydnf"
      },
      "execution_count": 14,
      "outputs": []
    },
    {
      "cell_type": "code",
      "source": [
        "type(empty_list2)"
      ],
      "metadata": {
        "colab": {
          "base_uri": "https://localhost:8080/"
        },
        "id": "z1mwQqiyykmh",
        "outputId": "be5a3844-d60d-44f2-d5e8-d48051ee47b3"
      },
      "execution_count": 15,
      "outputs": [
        {
          "output_type": "execute_result",
          "data": {
            "text/plain": [
              "list"
            ]
          },
          "metadata": {},
          "execution_count": 15
        }
      ]
    },
    {
      "cell_type": "markdown",
      "source": [
        "# Tuple"
      ],
      "metadata": {
        "id": "R_rb2tHty3h2"
      }
    },
    {
      "cell_type": "code",
      "source": [
        "t = tuple()"
      ],
      "metadata": {
        "id": "g5iEg-hOym-b"
      },
      "execution_count": 18,
      "outputs": []
    },
    {
      "cell_type": "code",
      "source": [
        "type(t)"
      ],
      "metadata": {
        "colab": {
          "base_uri": "https://localhost:8080/"
        },
        "id": "UGscWjSVy77I",
        "outputId": "64d034ed-9921-41ca-e489-1234b38fec6e"
      },
      "execution_count": 19,
      "outputs": [
        {
          "output_type": "execute_result",
          "data": {
            "text/plain": [
              "tuple"
            ]
          },
          "metadata": {},
          "execution_count": 19
        }
      ]
    },
    {
      "cell_type": "code",
      "source": [
        "empty_tuple = ()"
      ],
      "metadata": {
        "id": "gvkroBvhy_cm"
      },
      "execution_count": 24,
      "outputs": []
    },
    {
      "cell_type": "code",
      "source": [
        "type(empty_tuple)"
      ],
      "metadata": {
        "colab": {
          "base_uri": "https://localhost:8080/"
        },
        "id": "1oitLtA_zKXy",
        "outputId": "c1244c09-1dd4-40b5-a840-98cfac7284d3"
      },
      "execution_count": 25,
      "outputs": [
        {
          "output_type": "execute_result",
          "data": {
            "text/plain": [
              "tuple"
            ]
          },
          "metadata": {},
          "execution_count": 25
        }
      ]
    },
    {
      "cell_type": "code",
      "source": [
        "t = (10, 20, 30, 40)"
      ],
      "metadata": {
        "id": "sG0JIb8-zPTt"
      },
      "execution_count": 26,
      "outputs": []
    },
    {
      "cell_type": "code",
      "source": [
        "t"
      ],
      "metadata": {
        "colab": {
          "base_uri": "https://localhost:8080/"
        },
        "id": "JKvlca3IzYHe",
        "outputId": "d81dad58-6be0-4c1e-d5a9-dd029f059287"
      },
      "execution_count": 27,
      "outputs": [
        {
          "output_type": "execute_result",
          "data": {
            "text/plain": [
              "(10, 20, 30, 40)"
            ]
          },
          "metadata": {},
          "execution_count": 27
        }
      ]
    },
    {
      "cell_type": "code",
      "source": [
        "t[3]"
      ],
      "metadata": {
        "colab": {
          "base_uri": "https://localhost:8080/"
        },
        "id": "r2QTHRxxzaYj",
        "outputId": "e534dbfa-74d2-429b-d2d3-2a49841c161a"
      },
      "execution_count": 28,
      "outputs": [
        {
          "output_type": "execute_result",
          "data": {
            "text/plain": [
              "40"
            ]
          },
          "metadata": {},
          "execution_count": 28
        }
      ]
    },
    {
      "cell_type": "code",
      "source": [
        "t = (10, 30+7j, \"Naman\", \"Manan\", 10.8)"
      ],
      "metadata": {
        "id": "xK4X9H1lzc7K"
      },
      "execution_count": 29,
      "outputs": []
    },
    {
      "cell_type": "code",
      "source": [
        "type(t[3])"
      ],
      "metadata": {
        "colab": {
          "base_uri": "https://localhost:8080/"
        },
        "id": "-u2jyoAOzkO_",
        "outputId": "8df746a4-a8ff-4ac0-b1f2-affe78139866"
      },
      "execution_count": 31,
      "outputs": [
        {
          "output_type": "execute_result",
          "data": {
            "text/plain": [
              "str"
            ]
          },
          "metadata": {},
          "execution_count": 31
        }
      ]
    },
    {
      "cell_type": "code",
      "source": [
        "l"
      ],
      "metadata": {
        "colab": {
          "base_uri": "https://localhost:8080/"
        },
        "id": "2SYSe8YezoTp",
        "outputId": "18e52ce9-c90f-4567-fd0e-09bc9fb24833"
      },
      "execution_count": 32,
      "outputs": [
        {
          "output_type": "execute_result",
          "data": {
            "text/plain": [
              "[10, 20, 'naman', 'Naman', 'python', 10.6, (10+6j)]"
            ]
          },
          "metadata": {},
          "execution_count": 32
        }
      ]
    },
    {
      "cell_type": "code",
      "source": [
        "l[2] = \"Manan\""
      ],
      "metadata": {
        "id": "6aURaNoWz2MM"
      },
      "execution_count": 34,
      "outputs": []
    },
    {
      "cell_type": "code",
      "source": [
        "l"
      ],
      "metadata": {
        "colab": {
          "base_uri": "https://localhost:8080/"
        },
        "id": "iZaTGXu7z_WA",
        "outputId": "52c269c1-2b2d-48bd-b548-988d2c95e966"
      },
      "execution_count": 35,
      "outputs": [
        {
          "output_type": "execute_result",
          "data": {
            "text/plain": [
              "[10, 20, 'Manan', 'Naman', 'python', 10.6, (10+6j)]"
            ]
          },
          "metadata": {},
          "execution_count": 35
        }
      ]
    },
    {
      "cell_type": "code",
      "source": [
        "t"
      ],
      "metadata": {
        "colab": {
          "base_uri": "https://localhost:8080/"
        },
        "id": "Gdm_AG3kzt5Y",
        "outputId": "2c73bcd9-2d9e-4880-c9ca-63a213ce9818"
      },
      "execution_count": 33,
      "outputs": [
        {
          "output_type": "execute_result",
          "data": {
            "text/plain": [
              "(10, (30+7j), 'Naman', 'Manan', 10.8)"
            ]
          },
          "metadata": {},
          "execution_count": 33
        }
      ]
    },
    {
      "cell_type": "code",
      "source": [
        "t[2] = 100"
      ],
      "metadata": {
        "colab": {
          "base_uri": "https://localhost:8080/",
          "height": 167
        },
        "id": "FPKd6iWbzuee",
        "outputId": "ea5a34a6-0fc3-42c0-a32c-1d4d5a744518"
      },
      "execution_count": 36,
      "outputs": [
        {
          "output_type": "error",
          "ename": "TypeError",
          "evalue": "ignored",
          "traceback": [
            "\u001b[0;31m---------------------------------------------------------------------------\u001b[0m",
            "\u001b[0;31mTypeError\u001b[0m                                 Traceback (most recent call last)",
            "\u001b[0;32m<ipython-input-36-81ce4429faed>\u001b[0m in \u001b[0;36m<module>\u001b[0;34m()\u001b[0m\n\u001b[0;32m----> 1\u001b[0;31m \u001b[0mt\u001b[0m\u001b[0;34m[\u001b[0m\u001b[0;36m2\u001b[0m\u001b[0;34m]\u001b[0m \u001b[0;34m=\u001b[0m \u001b[0;36m100\u001b[0m\u001b[0;34m\u001b[0m\u001b[0;34m\u001b[0m\u001b[0m\n\u001b[0m",
            "\u001b[0;31mTypeError\u001b[0m: 'tuple' object does not support item assignment"
          ]
        }
      ]
    },
    {
      "cell_type": "code",
      "source": [
        "new_tuple = tuple(l)"
      ],
      "metadata": {
        "id": "OC_wP7OS0EXk"
      },
      "execution_count": 39,
      "outputs": []
    },
    {
      "cell_type": "code",
      "source": [
        "new_tuple"
      ],
      "metadata": {
        "colab": {
          "base_uri": "https://localhost:8080/"
        },
        "id": "qfmEzaoa0nGH",
        "outputId": "535f6601-c247-4c50-d24b-09a3dbc4be17"
      },
      "execution_count": 40,
      "outputs": [
        {
          "output_type": "execute_result",
          "data": {
            "text/plain": [
              "(10, 20, 'Manan', 'Naman', 'python', 10.6, (10+6j))"
            ]
          },
          "metadata": {},
          "execution_count": 40
        }
      ]
    },
    {
      "cell_type": "markdown",
      "source": [
        "# Set"
      ],
      "metadata": {
        "id": "0clabx7w1Fr1"
      }
    },
    {
      "cell_type": "code",
      "source": [
        "s = {10, 20, 30}"
      ],
      "metadata": {
        "id": "ZrwfpkiP0ogI"
      },
      "execution_count": 42,
      "outputs": []
    },
    {
      "cell_type": "code",
      "source": [
        "type(s)"
      ],
      "metadata": {
        "colab": {
          "base_uri": "https://localhost:8080/"
        },
        "id": "OrpYdsC21AS8",
        "outputId": "e18f705f-3c0c-4296-a2b0-4d983ed9aeba"
      },
      "execution_count": 43,
      "outputs": [
        {
          "output_type": "execute_result",
          "data": {
            "text/plain": [
              "set"
            ]
          },
          "metadata": {},
          "execution_count": 43
        }
      ]
    },
    {
      "cell_type": "code",
      "source": [
        "s"
      ],
      "metadata": {
        "colab": {
          "base_uri": "https://localhost:8080/"
        },
        "id": "_l12jIpT1JII",
        "outputId": "9d8bb653-7436-4e8b-ece7-5011920f012e"
      },
      "execution_count": 44,
      "outputs": [
        {
          "output_type": "execute_result",
          "data": {
            "text/plain": [
              "{10, 20, 30}"
            ]
          },
          "metadata": {},
          "execution_count": 44
        }
      ]
    },
    {
      "cell_type": "code",
      "source": [
        "l = [10, 20, 10, 20, 20] "
      ],
      "metadata": {
        "id": "UyGfQg-J1KC0"
      },
      "execution_count": 45,
      "outputs": []
    },
    {
      "cell_type": "code",
      "source": [
        "l"
      ],
      "metadata": {
        "colab": {
          "base_uri": "https://localhost:8080/"
        },
        "id": "4ZBz5czj1OPz",
        "outputId": "a9f094be-e219-4e37-f668-6ee2f91f238f"
      },
      "execution_count": 46,
      "outputs": [
        {
          "output_type": "execute_result",
          "data": {
            "text/plain": [
              "[10, 20, 10, 20, 20]"
            ]
          },
          "metadata": {},
          "execution_count": 46
        }
      ]
    },
    {
      "cell_type": "code",
      "source": [
        "s = {10, 20, 10, 20, 10}"
      ],
      "metadata": {
        "id": "VmLwEsoZ1Ox4"
      },
      "execution_count": 47,
      "outputs": []
    },
    {
      "cell_type": "code",
      "source": [
        "s"
      ],
      "metadata": {
        "colab": {
          "base_uri": "https://localhost:8080/"
        },
        "id": "FFPdyOaB1S22",
        "outputId": "42c72bca-7374-4080-feee-c63f16977a61"
      },
      "execution_count": 48,
      "outputs": [
        {
          "output_type": "execute_result",
          "data": {
            "text/plain": [
              "{10, 20}"
            ]
          },
          "metadata": {},
          "execution_count": 48
        }
      ]
    },
    {
      "cell_type": "markdown",
      "source": [
        "#Dist"
      ],
      "metadata": {
        "id": "h4UybOej1bgA"
      }
    },
    {
      "cell_type": "markdown",
      "source": [
        "dist = {key: value}"
      ],
      "metadata": {
        "id": "O_JYqgyr2Edt"
      }
    },
    {
      "cell_type": "code",
      "source": [
        "d = {\"name\": \"Naman\", \"Roll\":21}"
      ],
      "metadata": {
        "id": "VmlfkxnI1TUW"
      },
      "execution_count": 49,
      "outputs": []
    },
    {
      "cell_type": "code",
      "source": [
        "d[\"name\"]"
      ],
      "metadata": {
        "colab": {
          "base_uri": "https://localhost:8080/",
          "height": 35
        },
        "id": "e4iYCMXA1if6",
        "outputId": "4c7a89b8-2a0a-45b4-ab22-9b257f48f8c1"
      },
      "execution_count": 50,
      "outputs": [
        {
          "output_type": "execute_result",
          "data": {
            "application/vnd.google.colaboratory.intrinsic+json": {
              "type": "string"
            },
            "text/plain": [
              "'Naman'"
            ]
          },
          "metadata": {},
          "execution_count": 50
        }
      ]
    },
    {
      "cell_type": "code",
      "source": [
        "d[\"Roll\"]"
      ],
      "metadata": {
        "colab": {
          "base_uri": "https://localhost:8080/"
        },
        "id": "slvemoaY1mGH",
        "outputId": "fe2b3d75-8bd1-459e-d642-0975c24a2cb0"
      },
      "execution_count": 52,
      "outputs": [
        {
          "output_type": "execute_result",
          "data": {
            "text/plain": [
              "21"
            ]
          },
          "metadata": {},
          "execution_count": 52
        }
      ]
    },
    {
      "cell_type": "code",
      "source": [
        "d[\"age\"] = 23"
      ],
      "metadata": {
        "id": "yy5H-YB31oYH"
      },
      "execution_count": 53,
      "outputs": []
    },
    {
      "cell_type": "code",
      "source": [
        "d"
      ],
      "metadata": {
        "colab": {
          "base_uri": "https://localhost:8080/"
        },
        "id": "1wkn7Q7R1vwL",
        "outputId": "6e036e15-8db3-4463-cc83-834712f65b1f"
      },
      "execution_count": 54,
      "outputs": [
        {
          "output_type": "execute_result",
          "data": {
            "text/plain": [
              "{'Roll': 21, 'age': 23, 'name': 'Naman'}"
            ]
          },
          "metadata": {},
          "execution_count": 54
        }
      ]
    },
    {
      "cell_type": "code",
      "source": [
        "d[\"name\"] = \"Manan\""
      ],
      "metadata": {
        "id": "pFBWlBA81wlr"
      },
      "execution_count": 55,
      "outputs": []
    },
    {
      "cell_type": "code",
      "source": [
        "d"
      ],
      "metadata": {
        "colab": {
          "base_uri": "https://localhost:8080/"
        },
        "id": "7KBZv28k19_9",
        "outputId": "6b9b759d-b2bb-43a0-aac8-fe1718097a2a"
      },
      "execution_count": 56,
      "outputs": [
        {
          "output_type": "execute_result",
          "data": {
            "text/plain": [
              "{'Roll': 21, 'age': 23, 'name': 'Manan'}"
            ]
          },
          "metadata": {},
          "execution_count": 56
        }
      ]
    },
    {
      "cell_type": "code",
      "source": [
        "nested_list = [10, 20, [\"Naman\", \"Manaa\"]]"
      ],
      "metadata": {
        "id": "nwrQ1alB1_Od"
      },
      "execution_count": 58,
      "outputs": []
    },
    {
      "cell_type": "code",
      "source": [
        "nested_list[2]"
      ],
      "metadata": {
        "colab": {
          "base_uri": "https://localhost:8080/"
        },
        "id": "0SwRmVw-2dEl",
        "outputId": "09123c62-c4bc-4468-f0ba-1656826abf54"
      },
      "execution_count": 59,
      "outputs": [
        {
          "output_type": "execute_result",
          "data": {
            "text/plain": [
              "['Naman', 'Manaa']"
            ]
          },
          "metadata": {},
          "execution_count": 59
        }
      ]
    },
    {
      "cell_type": "code",
      "source": [
        "type(nested_list[2])"
      ],
      "metadata": {
        "colab": {
          "base_uri": "https://localhost:8080/"
        },
        "id": "UY0BHjII2hw8",
        "outputId": "67744877-01a5-4065-c08c-869afcc9cc80"
      },
      "execution_count": 60,
      "outputs": [
        {
          "output_type": "execute_result",
          "data": {
            "text/plain": [
              "list"
            ]
          },
          "metadata": {},
          "execution_count": 60
        }
      ]
    },
    {
      "cell_type": "markdown",
      "source": [
        ""
      ],
      "metadata": {
        "id": "uckn0e892ndI"
      }
    },
    {
      "cell_type": "code",
      "source": [
        "dist = {\"name\": \"Manan\", \"roll\": 21, \"Mobile\": [9889, 8667]}"
      ],
      "metadata": {
        "id": "JJweH86V2keY"
      },
      "execution_count": 61,
      "outputs": []
    },
    {
      "cell_type": "markdown",
      "source": [
        "# Type Casting"
      ],
      "metadata": {
        "id": "m-HubO4y3G7D"
      }
    },
    {
      "cell_type": "code",
      "source": [
        "a = 10.6"
      ],
      "metadata": {
        "id": "FuYqNZ-o26mC"
      },
      "execution_count": 63,
      "outputs": []
    },
    {
      "cell_type": "code",
      "source": [
        "type(a)"
      ],
      "metadata": {
        "colab": {
          "base_uri": "https://localhost:8080/"
        },
        "id": "gs3T18o53CyJ",
        "outputId": "6d663e79-6fc5-45bc-cf86-7201adcba357"
      },
      "execution_count": 64,
      "outputs": [
        {
          "output_type": "execute_result",
          "data": {
            "text/plain": [
              "float"
            ]
          },
          "metadata": {},
          "execution_count": 64
        }
      ]
    },
    {
      "cell_type": "code",
      "source": [
        "b = int(a)"
      ],
      "metadata": {
        "id": "V1J62GtB3McU"
      },
      "execution_count": 65,
      "outputs": []
    },
    {
      "cell_type": "code",
      "source": [
        "b"
      ],
      "metadata": {
        "colab": {
          "base_uri": "https://localhost:8080/"
        },
        "id": "61U4fLG03OFc",
        "outputId": "190de11c-8a6a-48b9-f351-07680cc3786b"
      },
      "execution_count": 66,
      "outputs": [
        {
          "output_type": "execute_result",
          "data": {
            "text/plain": [
              "10"
            ]
          },
          "metadata": {},
          "execution_count": 66
        }
      ]
    },
    {
      "cell_type": "code",
      "source": [
        "l = [10, 20, 30, 10, 20]\n",
        "s = set(l)"
      ],
      "metadata": {
        "id": "7k4eClKA3O1g"
      },
      "execution_count": 67,
      "outputs": []
    },
    {
      "cell_type": "code",
      "source": [
        "s\n"
      ],
      "metadata": {
        "colab": {
          "base_uri": "https://localhost:8080/"
        },
        "id": "tAvJEGih3U9v",
        "outputId": "2da732af-6345-43db-f86c-b1273b8eaaa0"
      },
      "execution_count": 68,
      "outputs": [
        {
          "output_type": "execute_result",
          "data": {
            "text/plain": [
              "{10, 20, 30}"
            ]
          },
          "metadata": {},
          "execution_count": 68
        }
      ]
    },
    {
      "cell_type": "code",
      "source": [
        "l"
      ],
      "metadata": {
        "colab": {
          "base_uri": "https://localhost:8080/"
        },
        "id": "rv7YeeEY3WAs",
        "outputId": "44b44fd3-83f8-49a0-e435-984b70a52530"
      },
      "execution_count": 69,
      "outputs": [
        {
          "output_type": "execute_result",
          "data": {
            "text/plain": [
              "[10, 20, 30, 10, 20]"
            ]
          },
          "metadata": {},
          "execution_count": 69
        }
      ]
    },
    {
      "cell_type": "code",
      "source": [
        "str_value = \"100\""
      ],
      "metadata": {
        "id": "QIE5XkGE3c5v"
      },
      "execution_count": 77,
      "outputs": []
    },
    {
      "cell_type": "code",
      "source": [
        "int(str_value)"
      ],
      "metadata": {
        "colab": {
          "base_uri": "https://localhost:8080/"
        },
        "id": "FAJfxxxN3meB",
        "outputId": "6aa1eb9f-678e-42d3-9e72-5c4bd4871d4e"
      },
      "execution_count": 78,
      "outputs": [
        {
          "output_type": "execute_result",
          "data": {
            "text/plain": [
              "100"
            ]
          },
          "metadata": {},
          "execution_count": 78
        }
      ]
    },
    {
      "cell_type": "code",
      "source": [
        "n = int(input())\n",
        "print(type(n))\n",
        "print(n)"
      ],
      "metadata": {
        "colab": {
          "base_uri": "https://localhost:8080/"
        },
        "id": "8n3TVFtb3qGO",
        "outputId": "175bdfd3-00fa-4adc-89a4-c2e38e72b876"
      },
      "execution_count": 83,
      "outputs": [
        {
          "output_type": "stream",
          "name": "stdout",
          "text": [
            "1000\n",
            "<class 'int'>\n",
            "1000\n"
          ]
        }
      ]
    },
    {
      "cell_type": "markdown",
      "source": [
        "# Operators\n",
        "\n",
        "  - Arithmetic: +, -, *, /, //, %, ***\n",
        "  - Comparision: <, > <=, >=, ==, != \n",
        "  - logic: and, or, not\n",
        "  - Bitwise: &, |, ^, >>, <<, ~\n",
        "  - Assignment: =, +=, -=, *=, /=, &=, |=.....ect\n",
        "  - identity: is, is not\n",
        "  - Memebship: in, not in"
      ],
      "metadata": {
        "id": "ckDhKa8B4AtJ"
      }
    },
    {
      "cell_type": "code",
      "source": [
        "a = 20\n",
        "b = 10"
      ],
      "metadata": {
        "id": "kIpUZaOu4CF9"
      },
      "execution_count": 84,
      "outputs": []
    },
    {
      "cell_type": "code",
      "source": [
        "a + b"
      ],
      "metadata": {
        "colab": {
          "base_uri": "https://localhost:8080/"
        },
        "id": "n576jYH-6aFL",
        "outputId": "fa4464a0-09a1-470d-9b04-592773707171"
      },
      "execution_count": 85,
      "outputs": [
        {
          "output_type": "execute_result",
          "data": {
            "text/plain": [
              "30"
            ]
          },
          "metadata": {},
          "execution_count": 85
        }
      ]
    },
    {
      "cell_type": "code",
      "source": [
        "15 / 2"
      ],
      "metadata": {
        "colab": {
          "base_uri": "https://localhost:8080/"
        },
        "id": "pLDUF-3L6axO",
        "outputId": "b6b1bcf1-0229-40af-9418-696f91c5cca3"
      },
      "execution_count": 87,
      "outputs": [
        {
          "output_type": "execute_result",
          "data": {
            "text/plain": [
              "7.5"
            ]
          },
          "metadata": {},
          "execution_count": 87
        }
      ]
    },
    {
      "cell_type": "code",
      "source": [
        "15 // 2"
      ],
      "metadata": {
        "colab": {
          "base_uri": "https://localhost:8080/"
        },
        "id": "71-XTvgl6cJn",
        "outputId": "792777e9-02d6-4b2d-bbab-7b799905693a"
      },
      "execution_count": 88,
      "outputs": [
        {
          "output_type": "execute_result",
          "data": {
            "text/plain": [
              "7"
            ]
          },
          "metadata": {},
          "execution_count": 88
        }
      ]
    },
    {
      "cell_type": "code",
      "source": [
        "-15 // 2"
      ],
      "metadata": {
        "colab": {
          "base_uri": "https://localhost:8080/"
        },
        "id": "J_eHao4h6iqP",
        "outputId": "5e08b455-9e8d-439f-880b-c6e39d306a8f"
      },
      "execution_count": 91,
      "outputs": [
        {
          "output_type": "execute_result",
          "data": {
            "text/plain": [
              "-8"
            ]
          },
          "metadata": {},
          "execution_count": 91
        }
      ]
    },
    {
      "cell_type": "code",
      "source": [
        "15 % 4 "
      ],
      "metadata": {
        "colab": {
          "base_uri": "https://localhost:8080/"
        },
        "id": "wyWiDzSg6u9W",
        "outputId": "d514a5e1-0b3c-4987-9906-0c674871ad0a"
      },
      "execution_count": 92,
      "outputs": [
        {
          "output_type": "execute_result",
          "data": {
            "text/plain": [
              "3"
            ]
          },
          "metadata": {},
          "execution_count": 92
        }
      ]
    },
    {
      "cell_type": "code",
      "source": [
        "2 ** 3"
      ],
      "metadata": {
        "colab": {
          "base_uri": "https://localhost:8080/"
        },
        "id": "Z1SDZNvf7D6q",
        "outputId": "b5c615f7-4b24-4fce-a6bc-092792bd60de"
      },
      "execution_count": 93,
      "outputs": [
        {
          "output_type": "execute_result",
          "data": {
            "text/plain": [
              "8"
            ]
          },
          "metadata": {},
          "execution_count": 93
        }
      ]
    },
    {
      "cell_type": "code",
      "source": [
        "True or False"
      ],
      "metadata": {
        "colab": {
          "base_uri": "https://localhost:8080/"
        },
        "id": "8EMxmjLA7YJy",
        "outputId": "c75cac02-7d8b-43d3-cec0-225919047c37"
      },
      "execution_count": 94,
      "outputs": [
        {
          "output_type": "execute_result",
          "data": {
            "text/plain": [
              "True"
            ]
          },
          "metadata": {},
          "execution_count": 94
        }
      ]
    },
    {
      "cell_type": "code",
      "source": [
        "False or False"
      ],
      "metadata": {
        "colab": {
          "base_uri": "https://localhost:8080/"
        },
        "id": "L3inCbED7sDY",
        "outputId": "102b307a-53d5-4918-c14b-c7da13b9b68f"
      },
      "execution_count": 95,
      "outputs": [
        {
          "output_type": "execute_result",
          "data": {
            "text/plain": [
              "False"
            ]
          },
          "metadata": {},
          "execution_count": 95
        }
      ]
    },
    {
      "cell_type": "code",
      "source": [
        "True and True"
      ],
      "metadata": {
        "colab": {
          "base_uri": "https://localhost:8080/"
        },
        "id": "wL-6WFOH7t8H",
        "outputId": "690db1f5-3b16-4036-b7a2-5ad507d26f66"
      },
      "execution_count": 96,
      "outputs": [
        {
          "output_type": "execute_result",
          "data": {
            "text/plain": [
              "True"
            ]
          },
          "metadata": {},
          "execution_count": 96
        }
      ]
    },
    {
      "cell_type": "code",
      "source": [
        "False and True"
      ],
      "metadata": {
        "colab": {
          "base_uri": "https://localhost:8080/"
        },
        "id": "B7yvnjRB7v14",
        "outputId": "62a24972-8f83-43ac-d232-6c9ddd4479a7"
      },
      "execution_count": 97,
      "outputs": [
        {
          "output_type": "execute_result",
          "data": {
            "text/plain": [
              "False"
            ]
          },
          "metadata": {},
          "execution_count": 97
        }
      ]
    },
    {
      "cell_type": "code",
      "source": [
        "# &, |, ^, >>, <<\n",
        "\n",
        "print(7 | 4)"
      ],
      "metadata": {
        "colab": {
          "base_uri": "https://localhost:8080/"
        },
        "id": "F_aY6kkr7yxu",
        "outputId": "532e48c4-a0f1-404f-99d5-4238ab26ed24"
      },
      "execution_count": 98,
      "outputs": [
        {
          "output_type": "stream",
          "name": "stdout",
          "text": [
            "7\n"
          ]
        }
      ]
    },
    {
      "cell_type": "code",
      "source": [
        "print(7 & 4)"
      ],
      "metadata": {
        "colab": {
          "base_uri": "https://localhost:8080/"
        },
        "id": "EW7Ynvhg8VZa",
        "outputId": "eef93c04-0549-4cb9-fdb0-285e46cc34ad"
      },
      "execution_count": 99,
      "outputs": [
        {
          "output_type": "stream",
          "name": "stdout",
          "text": [
            "4\n"
          ]
        }
      ]
    },
    {
      "cell_type": "code",
      "source": [
        "7 >> 1"
      ],
      "metadata": {
        "colab": {
          "base_uri": "https://localhost:8080/"
        },
        "id": "iJ9OQwn68dqF",
        "outputId": "fc5d4117-e652-4f80-f7bd-34566846372d"
      },
      "execution_count": 100,
      "outputs": [
        {
          "output_type": "execute_result",
          "data": {
            "text/plain": [
              "3"
            ]
          },
          "metadata": {},
          "execution_count": 100
        }
      ]
    },
    {
      "cell_type": "code",
      "source": [
        "7 >> 2"
      ],
      "metadata": {
        "colab": {
          "base_uri": "https://localhost:8080/"
        },
        "id": "rJvbKURy84GB",
        "outputId": "d3edfb29-25df-4ecc-ca1b-09dcb2c01c03"
      },
      "execution_count": 101,
      "outputs": [
        {
          "output_type": "execute_result",
          "data": {
            "text/plain": [
              "1"
            ]
          },
          "metadata": {},
          "execution_count": 101
        }
      ]
    },
    {
      "cell_type": "code",
      "source": [
        "7 << 1"
      ],
      "metadata": {
        "colab": {
          "base_uri": "https://localhost:8080/"
        },
        "id": "qA5lN0L088Pu",
        "outputId": "69228095-fab7-4f51-9bea-45702a41eedf"
      },
      "execution_count": 102,
      "outputs": [
        {
          "output_type": "execute_result",
          "data": {
            "text/plain": [
              "14"
            ]
          },
          "metadata": {},
          "execution_count": 102
        }
      ]
    },
    {
      "cell_type": "code",
      "source": [
        "7 << 2"
      ],
      "metadata": {
        "colab": {
          "base_uri": "https://localhost:8080/"
        },
        "id": "XggQKKBe9CKW",
        "outputId": "0c5c8b90-b362-4cde-cd29-52f3f0ecf750"
      },
      "execution_count": 103,
      "outputs": [
        {
          "output_type": "execute_result",
          "data": {
            "text/plain": [
              "28"
            ]
          },
          "metadata": {},
          "execution_count": 103
        }
      ]
    },
    {
      "cell_type": "code",
      "source": [
        "7 ^ 4"
      ],
      "metadata": {
        "colab": {
          "base_uri": "https://localhost:8080/"
        },
        "id": "Ba1ZxtdF9M4E",
        "outputId": "3ae5b480-9de1-4e1b-8a5a-e00837dd0d67"
      },
      "execution_count": 104,
      "outputs": [
        {
          "output_type": "execute_result",
          "data": {
            "text/plain": [
              "3"
            ]
          },
          "metadata": {},
          "execution_count": 104
        }
      ]
    },
    {
      "cell_type": "code",
      "source": [
        "~7"
      ],
      "metadata": {
        "colab": {
          "base_uri": "https://localhost:8080/"
        },
        "id": "M0Qk-r9u9lDX",
        "outputId": "f65dc3d9-26ac-4460-b899-bf1cac0aaeef"
      },
      "execution_count": 106,
      "outputs": [
        {
          "output_type": "execute_result",
          "data": {
            "text/plain": [
              "-8"
            ]
          },
          "metadata": {},
          "execution_count": 106
        }
      ]
    },
    {
      "cell_type": "code",
      "source": [
        "c = a + b"
      ],
      "metadata": {
        "id": "vGiDGms69mVc"
      },
      "execution_count": 107,
      "outputs": []
    },
    {
      "cell_type": "code",
      "source": [
        "c += a"
      ],
      "metadata": {
        "id": "cCHyuxwA-W15"
      },
      "execution_count": 108,
      "outputs": []
    },
    {
      "cell_type": "code",
      "source": [
        "l = [10, 20, 30, 40]"
      ],
      "metadata": {
        "id": "iRyJaPw8-Y8u"
      },
      "execution_count": 109,
      "outputs": []
    },
    {
      "cell_type": "code",
      "source": [
        "10 in l"
      ],
      "metadata": {
        "colab": {
          "base_uri": "https://localhost:8080/"
        },
        "id": "B-SAtQn_-idE",
        "outputId": "16873420-cd48-468b-9916-e445dac09037"
      },
      "execution_count": 110,
      "outputs": [
        {
          "output_type": "execute_result",
          "data": {
            "text/plain": [
              "True"
            ]
          },
          "metadata": {},
          "execution_count": 110
        }
      ]
    },
    {
      "cell_type": "code",
      "source": [
        "100 in l "
      ],
      "metadata": {
        "colab": {
          "base_uri": "https://localhost:8080/"
        },
        "id": "N-T1KZQS_Acu",
        "outputId": "738fdc4e-5377-48e7-e1b6-0337795e3082"
      },
      "execution_count": 111,
      "outputs": [
        {
          "output_type": "execute_result",
          "data": {
            "text/plain": [
              "False"
            ]
          },
          "metadata": {},
          "execution_count": 111
        }
      ]
    },
    {
      "cell_type": "code",
      "source": [
        "10 not in l"
      ],
      "metadata": {
        "colab": {
          "base_uri": "https://localhost:8080/"
        },
        "id": "B_SCWpRf_CL1",
        "outputId": "cbe0e97d-c46e-48a7-cf9c-bd3c326bba1e"
      },
      "execution_count": 112,
      "outputs": [
        {
          "output_type": "execute_result",
          "data": {
            "text/plain": [
              "False"
            ]
          },
          "metadata": {},
          "execution_count": 112
        }
      ]
    },
    {
      "cell_type": "code",
      "source": [
        "100 not in l"
      ],
      "metadata": {
        "colab": {
          "base_uri": "https://localhost:8080/"
        },
        "id": "nGPIoIqL_F3A",
        "outputId": "96a93325-18d5-449e-e6cb-b33b03ad9779"
      },
      "execution_count": 113,
      "outputs": [
        {
          "output_type": "execute_result",
          "data": {
            "text/plain": [
              "True"
            ]
          },
          "metadata": {},
          "execution_count": 113
        }
      ]
    },
    {
      "cell_type": "code",
      "source": [
        "l1 = [10, 20, 30]\n",
        "l2 = [10, 20, 30]\n",
        "l3 = [20, 30, 50]"
      ],
      "metadata": {
        "id": "mg39dZ2S_IkD"
      },
      "execution_count": 123,
      "outputs": []
    },
    {
      "cell_type": "code",
      "source": [
        "print(id(l1))\n",
        "print(id(l2))\n"
      ],
      "metadata": {
        "colab": {
          "base_uri": "https://localhost:8080/"
        },
        "id": "30lDrNFRAvxq",
        "outputId": "9a550b51-b465-49a8-8b56-d22c5fee7449"
      },
      "execution_count": 125,
      "outputs": [
        {
          "output_type": "stream",
          "name": "stdout",
          "text": [
            "139727874736848\n",
            "139727875007664\n"
          ]
        }
      ]
    },
    {
      "cell_type": "code",
      "source": [
        "l1 is l2"
      ],
      "metadata": {
        "colab": {
          "base_uri": "https://localhost:8080/"
        },
        "id": "gbdgJ2B-_tA3",
        "outputId": "27c7c721-5b29-4d99-ed04-fce35220b068"
      },
      "execution_count": 124,
      "outputs": [
        {
          "output_type": "execute_result",
          "data": {
            "text/plain": [
              "False"
            ]
          },
          "metadata": {},
          "execution_count": 124
        }
      ]
    },
    {
      "cell_type": "code",
      "source": [
        "Bitwise NOT(~):- returns one's compilement of no.\n",
        "\n",
        "   a = 10 -------------=> 1010 (binary)\n",
        "\n",
        "  ~a = ~1010\n",
        "\n",
        "     = -(1010 +1)\n",
        "\n",
        "     = - (1011)\n",
        "\n",
        "     = -11 (Decimal)\n"
      ],
      "metadata": {
        "id": "Wbnyq81Y_uAr"
      },
      "execution_count": null,
      "outputs": []
    },
    {
      "cell_type": "code",
      "source": [
        "x = 10 \n",
        "y = 10\n",
        "z = 30"
      ],
      "metadata": {
        "id": "fWXB9vU1_4tC"
      },
      "execution_count": 118,
      "outputs": []
    },
    {
      "cell_type": "code",
      "source": [
        "print(x is y)\n",
        "print(id(x))\n",
        "print(id(y))"
      ],
      "metadata": {
        "colab": {
          "base_uri": "https://localhost:8080/"
        },
        "id": "8euI334V_7ZE",
        "outputId": "a93d06f4-a47e-4bc5-a556-c30d0da31e4c"
      },
      "execution_count": 126,
      "outputs": [
        {
          "output_type": "stream",
          "name": "stdout",
          "text": [
            "True\n",
            "94636945468192\n",
            "94636945468192\n"
          ]
        }
      ]
    },
    {
      "cell_type": "code",
      "source": [
        "x is z"
      ],
      "metadata": {
        "colab": {
          "base_uri": "https://localhost:8080/"
        },
        "id": "8nmAwqCYAKZQ",
        "outputId": "fea2dbb6-922b-4a7b-adf7-61c8a9bcca41"
      },
      "execution_count": 120,
      "outputs": [
        {
          "output_type": "execute_result",
          "data": {
            "text/plain": [
              "False"
            ]
          },
          "metadata": {},
          "execution_count": 120
        }
      ]
    },
    {
      "cell_type": "code",
      "source": [
        "s1 = \"naman\"\n",
        "s2 = \"manan\"\n",
        "s3 = \"naman\"\n",
        "s1 is s3"
      ],
      "metadata": {
        "colab": {
          "base_uri": "https://localhost:8080/"
        },
        "id": "Wr2wSFq-ANNG",
        "outputId": "9fbd2c89-cd87-4993-9c08-1e7ade565b31"
      },
      "execution_count": 122,
      "outputs": [
        {
          "output_type": "execute_result",
          "data": {
            "text/plain": [
              "True"
            ]
          },
          "metadata": {},
          "execution_count": 122
        }
      ]
    },
    {
      "cell_type": "markdown",
      "source": [
        "# If..Else"
      ],
      "metadata": {
        "id": "j7wbeG3FDyeS"
      }
    },
    {
      "cell_type": "code",
      "source": [
        "if condition:\n",
        "  statements\n",
        "  "
      ],
      "metadata": {
        "id": "BVbp9f3xAcPi"
      },
      "execution_count": 126,
      "outputs": []
    },
    {
      "cell_type": "code",
      "source": [
        "money = 30\n",
        "\n",
        "if money > 100:\n",
        "  print(\"Shawarma\")\n",
        "else:\n",
        "  print(\"MOMO\")"
      ],
      "metadata": {
        "colab": {
          "base_uri": "https://localhost:8080/"
        },
        "id": "uLynP-XuD4Z6",
        "outputId": "414b6ca0-fca9-4c8b-f2eb-f1133347a15b"
      },
      "execution_count": 127,
      "outputs": [
        {
          "output_type": "stream",
          "name": "stdout",
          "text": [
            "MOMO\n"
          ]
        }
      ]
    },
    {
      "cell_type": "code",
      "source": [
        "money = 140\n",
        "if money > 100:\n",
        "  if money > 150:\n",
        "    print(\"Shawarma\")\n",
        "  else:\n",
        "    print(\"Kuchh orr\")\n",
        "elif money > 50:\n",
        "  print(\"Pani Puri\")\n",
        "else:\n",
        "  print(\"MoMo\")"
      ],
      "metadata": {
        "colab": {
          "base_uri": "https://localhost:8080/"
        },
        "id": "BqL8KXW7EMGy",
        "outputId": "a0544f09-5bd2-4d90-edd7-24f3cc8cec9b"
      },
      "execution_count": 133,
      "outputs": [
        {
          "output_type": "stream",
          "name": "stdout",
          "text": [
            "Kuchh orr\n"
          ]
        }
      ]
    },
    {
      "cell_type": "markdown",
      "source": [
        "# Loop"
      ],
      "metadata": {
        "id": "DFNE1HwTFPuJ"
      }
    },
    {
      "cell_type": "code",
      "source": [
        "# for loop\n",
        "l = [10, 20, 30, 40]\n",
        "\n",
        "for num in l:\n",
        "  print(num)"
      ],
      "metadata": {
        "colab": {
          "base_uri": "https://localhost:8080/"
        },
        "id": "V8MhOw5vEsSn",
        "outputId": "2847fe0e-cdd0-426a-85b2-f979a8d8d69e"
      },
      "execution_count": 134,
      "outputs": [
        {
          "output_type": "stream",
          "name": "stdout",
          "text": [
            "10\n",
            "20\n",
            "30\n",
            "40\n"
          ]
        }
      ]
    },
    {
      "cell_type": "code",
      "source": [
        ""
      ],
      "metadata": {
        "id": "kmCqBptxGxVH"
      },
      "execution_count": null,
      "outputs": []
    },
    {
      "cell_type": "code",
      "source": [
        "list(range(10))"
      ],
      "metadata": {
        "colab": {
          "base_uri": "https://localhost:8080/"
        },
        "id": "4FH3L81-HDsc",
        "outputId": "bc058dc2-a25b-4277-9628-802210c11368"
      },
      "execution_count": 151,
      "outputs": [
        {
          "output_type": "execute_result",
          "data": {
            "text/plain": [
              "[0, 1, 2, 3, 4, 5, 6, 7, 8, 9]"
            ]
          },
          "metadata": {},
          "execution_count": 151
        }
      ]
    },
    {
      "cell_type": "code",
      "source": [
        "for idx in range(4):\n",
        "  print(l[idx])"
      ],
      "metadata": {
        "colab": {
          "base_uri": "https://localhost:8080/"
        },
        "id": "5nLUU458Eu_s",
        "outputId": "e89c6378-3f26-479a-dec1-677e3ae64087"
      },
      "execution_count": 152,
      "outputs": [
        {
          "output_type": "stream",
          "name": "stdout",
          "text": [
            "10\n",
            "20\n",
            "30\n",
            "40\n"
          ]
        }
      ]
    },
    {
      "cell_type": "code",
      "source": [
        "for num in range(10, 100, 20):\n",
        "  print(num, end=' ')"
      ],
      "metadata": {
        "colab": {
          "base_uri": "https://localhost:8080/"
        },
        "id": "ZFbCkeRyF3Fa",
        "outputId": "b2c14fcd-506b-4736-8667-582bfea605d3"
      },
      "execution_count": 147,
      "outputs": [
        {
          "output_type": "stream",
          "name": "stdout",
          "text": [
            "10 30 50 70 90 "
          ]
        }
      ]
    },
    {
      "cell_type": "code",
      "source": [
        "list(range(10))"
      ],
      "metadata": {
        "colab": {
          "base_uri": "https://localhost:8080/"
        },
        "id": "6tGAyVJmFmAr",
        "outputId": "dc77259f-9380-4391-e89e-844cea9772cf"
      },
      "execution_count": 136,
      "outputs": [
        {
          "output_type": "execute_result",
          "data": {
            "text/plain": [
              "[0, 1, 2, 3, 4, 5, 6, 7, 8, 9]"
            ]
          },
          "metadata": {},
          "execution_count": 136
        }
      ]
    },
    {
      "cell_type": "code",
      "source": [
        "count = 0\n",
        "while count < 10:\n",
        "  print(count)\n",
        "  count += 1"
      ],
      "metadata": {
        "colab": {
          "base_uri": "https://localhost:8080/"
        },
        "id": "6NLE1_TtFpYT",
        "outputId": "573eba19-1cf2-420c-acee-a4e3569858cb"
      },
      "execution_count": 150,
      "outputs": [
        {
          "output_type": "stream",
          "name": "stdout",
          "text": [
            "0\n",
            "1\n",
            "2\n",
            "3\n",
            "4\n",
            "5\n",
            "6\n",
            "7\n",
            "8\n",
            "9\n"
          ]
        }
      ]
    },
    {
      "cell_type": "markdown",
      "source": [
        "# Functions"
      ],
      "metadata": {
        "id": "gR41g7ZTHUwK"
      }
    },
    {
      "cell_type": "markdown",
      "source": [
        "def func-name(parameters):\n",
        "\n",
        "  statements\n",
        "\n",
        "    ..........\n",
        "\n",
        "    .........\n",
        "\n",
        "    return \n"
      ],
      "metadata": {
        "id": "UHex-DlSHZxL"
      }
    },
    {
      "cell_type": "code",
      "source": [
        "!pip install playsound"
      ],
      "metadata": {
        "colab": {
          "base_uri": "https://localhost:8080/"
        },
        "id": "Vc4SiEBzIMPz",
        "outputId": "53607e59-a0ff-45f3-b45e-51d85c82627c"
      },
      "execution_count": 159,
      "outputs": [
        {
          "output_type": "stream",
          "name": "stdout",
          "text": [
            "Collecting playsound\n",
            "  Downloading playsound-1.3.0.tar.gz (7.7 kB)\n",
            "Building wheels for collected packages: playsound\n",
            "  Building wheel for playsound (setup.py) ... \u001b[?25l\u001b[?25hdone\n",
            "  Created wheel for playsound: filename=playsound-1.3.0-py3-none-any.whl size=7035 sha256=0260a9b2991137e0be8d7a6ad2bff3e8cc9f1c8d22ca0ae50d5ea2cc0bc14f34\n",
            "  Stored in directory: /root/.cache/pip/wheels/ba/f8/bb/ea57c0146b664dca3a0ada4199b0ecb5f9dfcb7b7e22b65ba2\n",
            "Successfully built playsound\n",
            "Installing collected packages: playsound\n",
            "Successfully installed playsound-1.3.0\n"
          ]
        }
      ]
    },
    {
      "cell_type": "code",
      "source": [
        "from gtts import gTTS\n",
        "from playsound import playsound\n",
        "\n",
        "def say_hello(name):\n",
        "  text = \"Hello\" + name\n",
        "  audio = gTTS(text = text, lang = 'en', slow = False)\n",
        "  audio.save(\"hello.mp3\")\n",
        "\n",
        "  playsound(\"hello.mp3\")\n",
        "  print(\"Hello\", name)"
      ],
      "metadata": {
        "id": "ZaRUQESPGQIT"
      },
      "execution_count": 161,
      "outputs": []
    },
    {
      "cell_type": "code",
      "source": [
        "say_hello(\"Arpit\")"
      ],
      "metadata": {
        "id": "QTgeb7pvH1bF"
      },
      "execution_count": null,
      "outputs": []
    },
    {
      "cell_type": "code",
      "source": [
        "def get_sum(a, b):\n",
        "  \"\"\"\n",
        "  This is a demo function to add two variable\n",
        "  \"\"\"\n",
        "  print(\"sum of {} and {} is {}\".format(a, b, a + b))\n",
        "  return a + b"
      ],
      "metadata": {
        "id": "4WOyDbUAICkH"
      },
      "execution_count": 163,
      "outputs": []
    },
    {
      "cell_type": "code",
      "source": [
        "sum = get_sum(10, 30)"
      ],
      "metadata": {
        "colab": {
          "base_uri": "https://localhost:8080/"
        },
        "id": "qEYhs7ZoKBeL",
        "outputId": "58dc2513-c07a-4ded-a9de-be08c6a9669f"
      },
      "execution_count": 166,
      "outputs": [
        {
          "output_type": "stream",
          "name": "stdout",
          "text": [
            "sum of 10 and 30 is 40\n"
          ]
        }
      ]
    },
    {
      "cell_type": "code",
      "source": [
        "sum"
      ],
      "metadata": {
        "colab": {
          "base_uri": "https://localhost:8080/"
        },
        "id": "vzJNlgefKW6E",
        "outputId": "ba40b473-2f82-4a82-ea88-599bad3dcff6"
      },
      "execution_count": 167,
      "outputs": [
        {
          "output_type": "execute_result",
          "data": {
            "text/plain": [
              "40"
            ]
          },
          "metadata": {},
          "execution_count": 167
        }
      ]
    },
    {
      "cell_type": "code",
      "source": [
        "print(get_sum.__doc__)"
      ],
      "metadata": {
        "colab": {
          "base_uri": "https://localhost:8080/"
        },
        "id": "7CSztbI4KlOj",
        "outputId": "a3c75488-0921-427e-d14e-6a9447a35fbc"
      },
      "execution_count": 169,
      "outputs": [
        {
          "output_type": "stream",
          "name": "stdout",
          "text": [
            "\n",
            "  This is a demo function to add two variable\n",
            "  \n"
          ]
        }
      ]
    },
    {
      "cell_type": "code",
      "source": [
        "def get_sum(a, b):\n",
        "  \"\"\"\n",
        "  This is a demo function to add two variable\n",
        "  \"\"\"\n",
        "  print(\"sum of {} and {} is {}\".format(a, b, a + b))\n",
        "  return (a+b, a-b, a*b)"
      ],
      "metadata": {
        "id": "JENMBIl6KqhK"
      },
      "execution_count": 181,
      "outputs": []
    },
    {
      "cell_type": "code",
      "source": [
        "sum, diff, mul = get_sum(10, 30)"
      ],
      "metadata": {
        "colab": {
          "base_uri": "https://localhost:8080/"
        },
        "id": "JRknQb00K9b7",
        "outputId": "0a8e2dd1-f8b6-4899-f64c-378d0a9386c3"
      },
      "execution_count": 182,
      "outputs": [
        {
          "output_type": "stream",
          "name": "stdout",
          "text": [
            "sum of 10 and 30 is 40\n"
          ]
        }
      ]
    },
    {
      "cell_type": "code",
      "source": [
        "print(sum)\n",
        "print(diff)\n",
        "print(mul)"
      ],
      "metadata": {
        "colab": {
          "base_uri": "https://localhost:8080/"
        },
        "id": "LrI4eMU_LlZJ",
        "outputId": "e0031929-203d-4d8c-c394-892d90682ed2"
      },
      "execution_count": 176,
      "outputs": [
        {
          "output_type": "stream",
          "name": "stdout",
          "text": [
            "40\n",
            "-20\n",
            "300\n"
          ]
        }
      ]
    },
    {
      "cell_type": "code",
      "source": [
        "sum, diff = get_sum(10, 30)"
      ],
      "metadata": {
        "colab": {
          "base_uri": "https://localhost:8080/",
          "height": 184
        },
        "id": "LhR2aELGLAKF",
        "outputId": "b73cfe08-973b-4fee-bb23-daec55b7e0f1"
      },
      "execution_count": 175,
      "outputs": [
        {
          "output_type": "stream",
          "name": "stdout",
          "text": [
            "sum of 10 and 30 is 40\n"
          ]
        },
        {
          "output_type": "error",
          "ename": "ValueError",
          "evalue": "ignored",
          "traceback": [
            "\u001b[0;31m---------------------------------------------------------------------------\u001b[0m",
            "\u001b[0;31mValueError\u001b[0m                                Traceback (most recent call last)",
            "\u001b[0;32m<ipython-input-175-834bcd0c06c0>\u001b[0m in \u001b[0;36m<module>\u001b[0;34m()\u001b[0m\n\u001b[0;32m----> 1\u001b[0;31m \u001b[0msum\u001b[0m\u001b[0;34m,\u001b[0m \u001b[0mdiff\u001b[0m \u001b[0;34m=\u001b[0m \u001b[0mget_sum\u001b[0m\u001b[0;34m(\u001b[0m\u001b[0;36m10\u001b[0m\u001b[0;34m,\u001b[0m \u001b[0;36m30\u001b[0m\u001b[0;34m)\u001b[0m\u001b[0;34m\u001b[0m\u001b[0;34m\u001b[0m\u001b[0m\n\u001b[0m",
            "\u001b[0;31mValueError\u001b[0m: too many values to unpack (expected 2)"
          ]
        }
      ]
    },
    {
      "cell_type": "code",
      "source": [
        "sum = get_sum(10, 30)"
      ],
      "metadata": {
        "colab": {
          "base_uri": "https://localhost:8080/"
        },
        "id": "C4RafzbgLPsy",
        "outputId": "9c3efac2-9409-442c-e606-ec3c903eb4ee"
      },
      "execution_count": 177,
      "outputs": [
        {
          "output_type": "stream",
          "name": "stdout",
          "text": [
            "sum of 10 and 30 is 40\n"
          ]
        }
      ]
    },
    {
      "cell_type": "code",
      "source": [
        "sum"
      ],
      "metadata": {
        "colab": {
          "base_uri": "https://localhost:8080/"
        },
        "id": "dmZZCSF2LtRA",
        "outputId": "9ea2bd3e-45ad-4486-ec10-6569724bbd0a"
      },
      "execution_count": 178,
      "outputs": [
        {
          "output_type": "execute_result",
          "data": {
            "text/plain": [
              "(40, -20, 300)"
            ]
          },
          "metadata": {},
          "execution_count": 178
        }
      ]
    },
    {
      "cell_type": "code",
      "source": [
        "sum[0]"
      ],
      "metadata": {
        "colab": {
          "base_uri": "https://localhost:8080/"
        },
        "id": "Gv7X4RRzLup0",
        "outputId": "79891ffd-1dd1-4165-b32b-619a7e2c4f54"
      },
      "execution_count": 180,
      "outputs": [
        {
          "output_type": "execute_result",
          "data": {
            "text/plain": [
              "40"
            ]
          },
          "metadata": {},
          "execution_count": 180
        }
      ]
    },
    {
      "cell_type": "code",
      "source": [
        "def say_hello(name, msg):\n",
        "  print(\"Hello\", name, msg)"
      ],
      "metadata": {
        "id": "9SQW6MnjL2RR"
      },
      "execution_count": 183,
      "outputs": []
    },
    {
      "cell_type": "code",
      "source": [
        "say_hello(\"Rajnish\")"
      ],
      "metadata": {
        "colab": {
          "base_uri": "https://localhost:8080/",
          "height": 167
        },
        "id": "qYZWtUXpMOg2",
        "outputId": "1666b8d1-6d67-41bf-87a6-3a5db2685068"
      },
      "execution_count": 188,
      "outputs": [
        {
          "output_type": "error",
          "ename": "TypeError",
          "evalue": "ignored",
          "traceback": [
            "\u001b[0;31m---------------------------------------------------------------------------\u001b[0m",
            "\u001b[0;31mTypeError\u001b[0m                                 Traceback (most recent call last)",
            "\u001b[0;32m<ipython-input-188-ea908b40874d>\u001b[0m in \u001b[0;36m<module>\u001b[0;34m()\u001b[0m\n\u001b[0;32m----> 1\u001b[0;31m \u001b[0msay_hello\u001b[0m\u001b[0;34m(\u001b[0m\u001b[0;34m\"Rajnish\"\u001b[0m\u001b[0;34m)\u001b[0m\u001b[0;34m\u001b[0m\u001b[0;34m\u001b[0m\u001b[0m\n\u001b[0m",
            "\u001b[0;31mTypeError\u001b[0m: say_hello() missing 1 required positional argument: 'msg'"
          ]
        }
      ]
    },
    {
      "cell_type": "code",
      "source": [
        "def say_hello(name, msg = \"Good Morning\"):\n",
        "  print(\"Hello\", name, msg)"
      ],
      "metadata": {
        "id": "ZxIsaHsMMTYf"
      },
      "execution_count": 191,
      "outputs": []
    },
    {
      "cell_type": "code",
      "source": [
        "say_hello(\"Rajnish\")"
      ],
      "metadata": {
        "colab": {
          "base_uri": "https://localhost:8080/"
        },
        "id": "f4_rP2Q7Mbw-",
        "outputId": "b67a67cd-e448-4003-8d5c-3a84145a85ac"
      },
      "execution_count": 192,
      "outputs": [
        {
          "output_type": "stream",
          "name": "stdout",
          "text": [
            "Hello Rajnish Good Morning\n"
          ]
        }
      ]
    },
    {
      "cell_type": "code",
      "source": [
        "say_hello(\"Rajnish\", \"Good Evening\")"
      ],
      "metadata": {
        "colab": {
          "base_uri": "https://localhost:8080/"
        },
        "id": "g_sVr-HxMte4",
        "outputId": "4f911924-a601-4bec-b9f7-60fc9bc92d5a"
      },
      "execution_count": 193,
      "outputs": [
        {
          "output_type": "stream",
          "name": "stdout",
          "text": [
            "Hello Rajnish Good Evening\n"
          ]
        }
      ]
    },
    {
      "cell_type": "code",
      "source": [
        "say_hello(\"Good Evening\", \"Rajnish\")"
      ],
      "metadata": {
        "colab": {
          "base_uri": "https://localhost:8080/"
        },
        "id": "Pd7Bb-6DM9GZ",
        "outputId": "a5b3dc09-7169-4652-8d42-a0da399ed2d0"
      },
      "execution_count": 194,
      "outputs": [
        {
          "output_type": "stream",
          "name": "stdout",
          "text": [
            "Hello Good Evening Rajnish\n"
          ]
        }
      ]
    },
    {
      "cell_type": "code",
      "source": [
        "say_hello(msg = \"Good Evening\", name = \"Rajnish\")"
      ],
      "metadata": {
        "colab": {
          "base_uri": "https://localhost:8080/"
        },
        "id": "Te2wd4DZNL7M",
        "outputId": "abdecdd0-1461-4393-cbed-1ac57a16cf5d"
      },
      "execution_count": 195,
      "outputs": [
        {
          "output_type": "stream",
          "name": "stdout",
          "text": [
            "Hello Rajnish Good Evening\n"
          ]
        }
      ]
    },
    {
      "cell_type": "code",
      "source": [
        ""
      ],
      "metadata": {
        "id": "sOIBdt8uNXnn"
      },
      "execution_count": null,
      "outputs": []
    },
    {
      "cell_type": "markdown",
      "source": [
        "# Pre define Functions"
      ],
      "metadata": {
        "id": "C94RHlLGNfOD"
      }
    },
    {
      "cell_type": "markdown",
      "source": [
        "## abs()"
      ],
      "metadata": {
        "id": "wKT4Fe0aNriF"
      }
    },
    {
      "cell_type": "code",
      "source": [
        "a = -10\n",
        "b = 30\n",
        "print(abs(a))\n",
        "print(abs(b))"
      ],
      "metadata": {
        "colab": {
          "base_uri": "https://localhost:8080/"
        },
        "id": "i67JIKGjNhUC",
        "outputId": "c03c69ac-9f0b-49c1-87dc-29bf69b63ae3"
      },
      "execution_count": 196,
      "outputs": [
        {
          "output_type": "stream",
          "name": "stdout",
          "text": [
            "10\n",
            "30\n"
          ]
        }
      ]
    },
    {
      "cell_type": "markdown",
      "source": [
        "## all()"
      ],
      "metadata": {
        "id": "_WD7evogN1IZ"
      }
    },
    {
      "cell_type": "code",
      "source": [
        "l1 = [0, 10, 20, 30]\n",
        "l2 = [-1, 10, 20, 30, 40]\n",
        "l3 = [False, 90, 200]\n",
        "\n",
        "print(all(l1))"
      ],
      "metadata": {
        "colab": {
          "base_uri": "https://localhost:8080/"
        },
        "id": "DcVKNiS0NybU",
        "outputId": "8799571b-6877-4f9e-c1ad-c1a2457c81e2"
      },
      "execution_count": 200,
      "outputs": [
        {
          "output_type": "stream",
          "name": "stdout",
          "text": [
            "False\n"
          ]
        }
      ]
    },
    {
      "cell_type": "code",
      "source": [
        "all(l2)"
      ],
      "metadata": {
        "colab": {
          "base_uri": "https://localhost:8080/"
        },
        "id": "A_pkzHQYOMOo",
        "outputId": "aad4769e-7d32-4af8-f1e6-5eb31e9a343b"
      },
      "execution_count": 201,
      "outputs": [
        {
          "output_type": "execute_result",
          "data": {
            "text/plain": [
              "True"
            ]
          },
          "metadata": {},
          "execution_count": 201
        }
      ]
    },
    {
      "cell_type": "code",
      "source": [
        "all(l3)"
      ],
      "metadata": {
        "colab": {
          "base_uri": "https://localhost:8080/"
        },
        "id": "q0x3PKtSOZjl",
        "outputId": "b80fd052-3dd3-4d50-ac51-bf3124c13253"
      },
      "execution_count": 202,
      "outputs": [
        {
          "output_type": "execute_result",
          "data": {
            "text/plain": [
              "False"
            ]
          },
          "metadata": {},
          "execution_count": 202
        }
      ]
    },
    {
      "cell_type": "markdown",
      "source": [
        "False -> None, 0, False"
      ],
      "metadata": {
        "id": "-bz_z7xIOtD1"
      }
    },
    {
      "cell_type": "code",
      "source": [
        "s = set()\n",
        "dir(s)"
      ],
      "metadata": {
        "colab": {
          "base_uri": "https://localhost:8080/"
        },
        "id": "FahafX60OevA",
        "outputId": "8d5ac3ad-3b1d-4bf5-e120-76261258fa46"
      },
      "execution_count": 206,
      "outputs": [
        {
          "output_type": "execute_result",
          "data": {
            "text/plain": [
              "['__and__',\n",
              " '__class__',\n",
              " '__contains__',\n",
              " '__delattr__',\n",
              " '__dir__',\n",
              " '__doc__',\n",
              " '__eq__',\n",
              " '__format__',\n",
              " '__ge__',\n",
              " '__getattribute__',\n",
              " '__gt__',\n",
              " '__hash__',\n",
              " '__iand__',\n",
              " '__init__',\n",
              " '__init_subclass__',\n",
              " '__ior__',\n",
              " '__isub__',\n",
              " '__iter__',\n",
              " '__ixor__',\n",
              " '__le__',\n",
              " '__len__',\n",
              " '__lt__',\n",
              " '__ne__',\n",
              " '__new__',\n",
              " '__or__',\n",
              " '__rand__',\n",
              " '__reduce__',\n",
              " '__reduce_ex__',\n",
              " '__repr__',\n",
              " '__ror__',\n",
              " '__rsub__',\n",
              " '__rxor__',\n",
              " '__setattr__',\n",
              " '__sizeof__',\n",
              " '__str__',\n",
              " '__sub__',\n",
              " '__subclasshook__',\n",
              " '__xor__',\n",
              " 'add',\n",
              " 'clear',\n",
              " 'copy',\n",
              " 'difference',\n",
              " 'difference_update',\n",
              " 'discard',\n",
              " 'intersection',\n",
              " 'intersection_update',\n",
              " 'isdisjoint',\n",
              " 'issubset',\n",
              " 'issuperset',\n",
              " 'pop',\n",
              " 'remove',\n",
              " 'symmetric_difference',\n",
              " 'symmetric_difference_update',\n",
              " 'union',\n",
              " 'update']"
            ]
          },
          "metadata": {},
          "execution_count": 206
        }
      ]
    },
    {
      "cell_type": "markdown",
      "source": [
        "# enumerate"
      ],
      "metadata": {
        "id": "Ne3XttvZPBUD"
      }
    },
    {
      "cell_type": "code",
      "source": [
        "l = [10, 20, 30, 40]\n",
        "enu = tuple(enumerate(l))"
      ],
      "metadata": {
        "id": "tnWZMEfbOmAM"
      },
      "execution_count": 210,
      "outputs": []
    },
    {
      "cell_type": "code",
      "source": [
        "enu"
      ],
      "metadata": {
        "colab": {
          "base_uri": "https://localhost:8080/"
        },
        "id": "xDhH6yAPO1xf",
        "outputId": "b21edb0f-62bc-4693-b519-260d3326ae79"
      },
      "execution_count": 211,
      "outputs": [
        {
          "output_type": "execute_result",
          "data": {
            "text/plain": [
              "((0, 10), (1, 20), (2, 30), (3, 40))"
            ]
          },
          "metadata": {},
          "execution_count": 211
        }
      ]
    },
    {
      "cell_type": "code",
      "source": [
        "for idx, val in enumerate(l):\n",
        "  print(\"Index of {} is {}\".format(idx, val))"
      ],
      "metadata": {
        "colab": {
          "base_uri": "https://localhost:8080/"
        },
        "id": "XZBu1EQjPTeb",
        "outputId": "4cb80ee9-9322-4a90-dac3-0ac5014297dc"
      },
      "execution_count": 215,
      "outputs": [
        {
          "output_type": "stream",
          "name": "stdout",
          "text": [
            "Index of 0 is 10\n",
            "Index of 1 is 20\n",
            "Index of 2 is 30\n",
            "Index of 3 is 40\n"
          ]
        }
      ]
    },
    {
      "cell_type": "code",
      "source": [
        "len(l)"
      ],
      "metadata": {
        "colab": {
          "base_uri": "https://localhost:8080/"
        },
        "id": "Fpx5W2KsPlT4",
        "outputId": "4d64b3cb-26a2-400f-aa30-1822d5ad70ec"
      },
      "execution_count": 214,
      "outputs": [
        {
          "output_type": "execute_result",
          "data": {
            "text/plain": [
              "4"
            ]
          },
          "metadata": {},
          "execution_count": 214
        }
      ]
    },
    {
      "cell_type": "code",
      "source": [
        "l = list(range(-100, 100, 10))\n",
        "print(l)"
      ],
      "metadata": {
        "colab": {
          "base_uri": "https://localhost:8080/"
        },
        "id": "4xHdnN6ZP-4I",
        "outputId": "1e9beb31-539f-4005-b12f-0d12a4f11085"
      },
      "execution_count": 218,
      "outputs": [
        {
          "output_type": "stream",
          "name": "stdout",
          "text": [
            "[-100, -90, -80, -70, -60, -50, -40, -30, -20, -10, 0, 10, 20, 30, 40, 50, 60, 70, 80, 90]\n"
          ]
        }
      ]
    },
    {
      "cell_type": "code",
      "source": [
        "for num in l:\n",
        "  if num > 0:\n",
        "    print(num)"
      ],
      "metadata": {
        "colab": {
          "base_uri": "https://localhost:8080/"
        },
        "id": "O7B1ISYRQscU",
        "outputId": "e23e61ba-9ab3-4ee5-c0b2-376494cc578e"
      },
      "execution_count": 220,
      "outputs": [
        {
          "output_type": "stream",
          "name": "stdout",
          "text": [
            "10\n",
            "20\n",
            "30\n",
            "40\n",
            "50\n",
            "60\n",
            "70\n",
            "80\n",
            "90\n"
          ]
        }
      ]
    },
    {
      "cell_type": "code",
      "source": [
        ""
      ],
      "metadata": {
        "id": "FvQsMaY8Q-lE"
      },
      "execution_count": null,
      "outputs": []
    }
  ]
}